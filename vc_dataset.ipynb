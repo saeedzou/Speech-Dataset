{
 "cells": [
  {
   "cell_type": "code",
   "execution_count": null,
   "metadata": {},
   "outputs": [],
   "source": [
    "%%capture\n",
    "!git clone https://github.com/saeedzou/Speech-Dataset.git\n",
    "%cd Speech-Dataset/\n",
    "! pip install pydub\n",
    "! python3 -m pip install -U git+https://github.com/facebookresearch/demucs#egg=demucs\n",
    "! apt install ffmpeg\n",
    "! pip install spleeter\n",
    "# ! gdown 1Mu6vAU4sF6Hl6CWtCspsATT22AIP0CA0\n",
    "# ! unzip f2.zip\n",
    "# ! mv f2_ستاره\\ پسیانی f2"
   ]
  },
  {
   "cell_type": "code",
   "execution_count": null,
   "metadata": {},
   "outputs": [],
   "source": [
    "! python utils.py ./f2/"
   ]
  },
  {
   "cell_type": "code",
   "execution_count": null,
   "metadata": {},
   "outputs": [],
   "source": [
    "! python audio_separation.py ./f2/"
   ]
  }
 ],
 "metadata": {
  "language_info": {
   "name": "python"
  }
 },
 "nbformat": 4,
 "nbformat_minor": 2
}
