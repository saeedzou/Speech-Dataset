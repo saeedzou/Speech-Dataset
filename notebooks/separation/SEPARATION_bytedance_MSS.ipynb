{
  "nbformat": 4,
  "nbformat_minor": 0,
  "metadata": {
    "colab": {
      "provenance": [],
      "gpuType": "T4"
    },
    "kernelspec": {
      "name": "python3",
      "display_name": "Python 3"
    },
    "language_info": {
      "name": "python"
    },
    "accelerator": "GPU"
  },
  "cells": [
    {
      "cell_type": "code",
      "execution_count": null,
      "metadata": {
        "id": "5gtwILsZe9ov"
      },
      "outputs": [],
      "source": [
        "%%capture\n",
        "! git clone https://github.com/bytedance/music_source_separation.git\n",
        "%cd music_source_separation\n",
        "! wget https://github.com/deezer/spleeter/raw/master/audio_example.mp3\n",
        "! pip install pytorch_lightning\n",
        "! pip install torchlibrosa\n",
        "! python3 -m bytesep download-checkpoints"
      ]
    },
    {
      "cell_type": "code",
      "source": [
        "from IPython.display import Audio"
      ],
      "metadata": {
        "id": "XVlfIbHIkfF4"
      },
      "execution_count": 7,
      "outputs": []
    },
    {
      "cell_type": "code",
      "source": [
        "Audio('audio_example.mp3')"
      ],
      "metadata": {
        "id": "xsigWGxQkgca"
      },
      "execution_count": null,
      "outputs": []
    },
    {
      "cell_type": "code",
      "source": [
        "%%capture\n",
        "! python3 -m bytesep separate --source_type=\"vocals\" --audio_path=\"./audio_example.mp3\" --output_path=\"./output.mp3\""
      ],
      "metadata": {
        "id": "ti_CpdE1iqYi"
      },
      "execution_count": null,
      "outputs": []
    },
    {
      "cell_type": "code",
      "source": [
        "Audio('output.mp3')"
      ],
      "metadata": {
        "id": "LKAqXLKAkifp"
      },
      "execution_count": null,
      "outputs": []
    }
  ]
}