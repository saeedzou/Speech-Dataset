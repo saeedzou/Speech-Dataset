{
  "nbformat": 4,
  "nbformat_minor": 0,
  "metadata": {
    "colab": {
      "provenance": [],
      "gpuType": "T4"
    },
    "kernelspec": {
      "name": "python3",
      "display_name": "Python 3"
    },
    "language_info": {
      "name": "python"
    },
    "accelerator": "GPU"
  },
  "cells": [
    {
      "cell_type": "code",
      "source": [
        "%%capture\n",
        "! wget https://github.com/tsurumeso/vocal-remover/releases/download/v6.0.0b4/vocal-remover-v6.0.0b4.zip\n",
        "! wget https://github.com/deezer/spleeter/raw/master/audio_example.mp3\n",
        "! unzip -q vocal-remover-v6.0.0b4.zip\n",
        "%cd vocal-remover\n",
        "! pip install -r requirements.txt"
      ],
      "metadata": {
        "id": "-2TGndPxcUNy"
      },
      "execution_count": 1,
      "outputs": []
    },
    {
      "cell_type": "code",
      "source": [
        "from IPython.display import Audio"
      ],
      "metadata": {
        "id": "xwz8DX2_imiw"
      },
      "execution_count": 5,
      "outputs": []
    },
    {
      "cell_type": "code",
      "source": [
        "Audio('audio_example.mp3')"
      ],
      "metadata": {
        "id": "sHlkQz8Dit2v"
      },
      "execution_count": null,
      "outputs": []
    },
    {
      "cell_type": "code",
      "source": [
        "!python inference.py -o output/ --input audio_example.mp3 --gpu 0"
      ],
      "metadata": {
        "id": "YdkvvT7pb6No"
      },
      "execution_count": null,
      "outputs": []
    },
    {
      "cell_type": "code",
      "source": [
        "Audio('output/audio_example_Vocals.wav')"
      ],
      "metadata": {
        "id": "hgYHYyklcPYI"
      },
      "execution_count": null,
      "outputs": []
    },
    {
      "cell_type": "code",
      "source": [
        "Audio('output/audio_example_Instruments.wav')"
      ],
      "metadata": {
        "id": "sSW67V5FjFXS"
      },
      "execution_count": null,
      "outputs": []
    }
  ]
}