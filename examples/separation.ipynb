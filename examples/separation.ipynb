{
  "nbformat": 4,
  "nbformat_minor": 0,
  "metadata": {
    "colab": {
      "provenance": [],
      "gpuType": "T4"
    },
    "kernelspec": {
      "name": "python3",
      "display_name": "Python 3"
    },
    "language_info": {
      "name": "python"
    },
    "accelerator": "GPU"
  },
  "cells": [
    {
      "cell_type": "code",
      "source": [
        "%%capture\n",
        "!git clone https://github.com/saeedzou/Speech-Dataset.git\n",
        "%cd Speech-Dataset/\n",
        "! pip install pydub\n",
        "! python3 -m pip install -U git+https://github.com/facebookresearch/demucs#egg=demucs\n",
        "! apt install ffmpeg\n",
        "! pip install spleeter"
      ],
      "metadata": {
        "id": "k9ZFtVOWRQ08"
      },
      "execution_count": null,
      "outputs": []
    },
    {
      "cell_type": "code",
      "source": [
        "! python audio_separation.py ./"
      ],
      "metadata": {
        "id": "VhiHpO4ZQ9SF"
      },
      "execution_count": null,
      "outputs": []
    }
  ]
}